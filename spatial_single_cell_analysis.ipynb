{
 "cells": [
  {
   "cell_type": "code",
   "execution_count": null,
   "id": "411a305c",
   "metadata": {},
   "outputs": [],
   "source": [
    "import scanpy as sc\n",
    "import numpy as np"
   ]
  },
  {
   "cell_type": "markdown",
   "id": "7a5254ac",
   "metadata": {},
   "source": [
    "Spatial visualisation of AIMP"
   ]
  },
  {
   "cell_type": "code",
   "execution_count": null,
   "id": "2d079b1b",
   "metadata": {},
   "outputs": [],
   "source": [
    "\n",
    "adata = sc.read_h5ad(\"/Users/humairanoor/Downloads//242_T.h5ad\")\n",
    "\n",
    "\n",
    "slide_of_interest = '242_T'  \n",
    "\n",
    "spatial_data = adata.uns['spatial'][slide_of_interest]  \n",
    "\n",
    "x_coord = np.repeat(np.arange(spatial_data['images']['lowres'].shape[0]), spatial_data['images']['lowres'].shape[1])\n",
    "y_coord = np.tile(np.arange(spatial_data['images']['lowres'].shape[1]), spatial_data['images']['lowres'].shape[0])\n",
    "\n",
    "\n",
    "coordinates = np.vstack([x_coord, y_coord]).T\n",
    "\n",
    "print(coordinates)\n",
    "\n",
    "\n",
    "sc.pl.spatial(\n",
    "    adata, \n",
    "    color=\"AIMP1\", \n",
    "    library_id=slide_of_interest,  \n",
    "    cmap=\"viridis\",  \n",
    "    title=f\"Gene Expression for Slide {slide_of_interest}\", \n",
    ")"
   ]
  },
  {
   "cell_type": "markdown",
   "id": "22bf10b6",
   "metadata": {},
   "source": [
    "Expression of AIMP across cell types"
   ]
  },
  {
   "cell_type": "code",
   "execution_count": null,
   "id": "325a86cc",
   "metadata": {},
   "outputs": [],
   "source": [
    "import pandas as pd\n",
    "import seaborn as sns\n",
    "import matplotlib.pyplot as plt\n",
    "from scipy.stats import kruskal\n",
    "\n",
    "\n",
    "groups = [merged_data2.loc[merged_data2[\"tumor_cell\"] == group, \"AIMP2\"] for group in merged_data2[\"tumor_cell\"].unique()]\n",
    "stat, p_value = kruskal(*groups)\n",
    "\n",
    "\n",
    "plt.figure(figsize=(10, 6))\n",
    "sns.violinplot(data=merged_data2, x=\"tumor_cell\", y=\"AIMP2\", palette=\"Set2\")\n",
    "\n",
    "\n",
    "plt.text(\n",
    "    x=0.5, \n",
    "    y=merged_data2[\"AIMP2\"].max() * 1.05, \n",
    "    s=f\"Kruskal-Wallis p = {p_value:.4e}\", \n",
    "    ha=\"center\", \n",
    "    fontsize=12, \n",
    "    color=\"black\"\n",
    ")\n",
    "\n",
    "\n",
    "plt.xlabel(\"Cell Type\", fontsize=12)\n",
    "plt.ylabel(\"AIMP2 Expression\", fontsize=12)\n",
    "plt.title(\"Violin Plot of AIMP2 Expression by Cell Type\", fontsize=14)\n",
    "\n",
    "\n",
    "plt.tight_layout()\n",
    "plt.show()"
   ]
  }
 ],
 "metadata": {
  "kernelspec": {
   "display_name": "Python 3 (ipykernel)",
   "language": "python",
   "name": "python3"
  },
  "language_info": {
   "codemirror_mode": {
    "name": "ipython",
    "version": 3
   },
   "file_extension": ".py",
   "mimetype": "text/x-python",
   "name": "python",
   "nbconvert_exporter": "python",
   "pygments_lexer": "ipython3",
   "version": "3.9.13"
  }
 },
 "nbformat": 4,
 "nbformat_minor": 5
}
