{
 "cells": [
  {
   "cell_type": "code",
   "execution_count": null,
   "id": "6ff5031f",
   "metadata": {},
   "outputs": [],
   "source": [
    "import pandas as pd\n",
    "from statsmodels.stats.multitest import multipletests\n",
    "\n",
    "df = pd.read_csv('/Users/humairanoor/Documents/AIMP/correlation with angiogenesis genes 141.csv')\n",
    "\n",
    "for gene in ['AIMP1', 'AIMP2', 'AIMP3']:\n",
    "    raw_pvals = df[f'{gene} (p)'].values\n",
    "    _, adj_pvals, _, _ = multipletests(raw_pvals, method='fdr_bh')\n",
    "    df[f'{gene} (adj p)'] = adj_pvals\n",
    "\n",
    "df.to_csv('correlation_results_with_adj_p.csv', index=False)\n",
    "\n",
    "print(\"Adjusted p-values added and saved to 'adjusted_pathway_141_correlation_results.csv'\")\n"
   ]
  },
  {
   "cell_type": "code",
   "execution_count": null,
   "id": "c50d22de",
   "metadata": {},
   "outputs": [],
   "source": [
    "import seaborn as sns\n",
    "import matplotlib.pyplot as plt\n",
    "import numpy as np\n",
    "\n",
    "df = pd.read_csv('/Users/humairanoor/Documents/AIMP/correlation_results_141_with_adj_p.csv', index_col = 0)\n",
    "r_values_df = df.filter(like='(R)')\n",
    "\n",
    "p_values_df = df.filter(like='(adj p)')\n",
    "p_values_df = p_values_df.applymap(lambda x: pd.to_numeric(x, errors='coerce'))\n",
    "\n",
    "pd.options.display.float_format = '{:.14f}'.format\n",
    "mask_significant = p_values_df < 0.05\n",
    "\n",
    "annot = r_values_df.round(2).astype(str) \n",
    "\n",
    "for i in range(annot.shape[0]):\n",
    "    for j in range(annot.shape[1]):\n",
    "        if mask_significant.iloc[i, j]:\n",
    "            annot.iloc[i, j] =  ' *'  \n",
    "        else:\n",
    "            annot.iloc[i, j] = 'ns'  \n",
    "\n",
    "\n",
    "plt.figure(figsize=(10, 8))\n",
    "\n",
    "\n",
    "ax = sns.heatmap(r_values_df, annot=annot, fmt='', cmap=\"coolwarm\", center=0, linewidths=0.5, linecolor='black')\n",
    "\n",
    "\n",
    "plt.title('Correlation between 141 Panther pathway genes and AIMP1/2/3 expression')\n",
    "plt.xlabel('Genes')\n",
    "plt.ylabel('TCGA Cancer Types')\n",
    "\n",
    "plt.show()"
   ]
  }
 ],
 "metadata": {
  "kernelspec": {
   "display_name": "Python 3 (ipykernel)",
   "language": "python",
   "name": "python3"
  },
  "language_info": {
   "codemirror_mode": {
    "name": "ipython",
    "version": 3
   },
   "file_extension": ".py",
   "mimetype": "text/x-python",
   "name": "python",
   "nbconvert_exporter": "python",
   "pygments_lexer": "ipython3",
   "version": "3.9.13"
  }
 },
 "nbformat": 4,
 "nbformat_minor": 5
}
